{
 "cells": [
  {
   "cell_type": "code",
   "execution_count": 1,
   "metadata": {},
   "outputs": [],
   "source": [
    "import folium\n",
    "import os"
   ]
  },
  {
   "cell_type": "code",
   "execution_count": 2,
   "metadata": {},
   "outputs": [],
   "source": [
    "#Data import\n",
    "data = os.path.join('Subway_Stations.geojson')"
   ]
  },
  {
   "cell_type": "code",
   "execution_count": 3,
   "metadata": {},
   "outputs": [],
   "source": [
    "#Create a map object, focused on NYC:\n",
    "m = folium.Map(location=[40.7142700, -74.0059700], zoom_start=13)"
   ]
  },
  {
   "cell_type": "code",
   "execution_count": 4,
   "metadata": {},
   "outputs": [
    {
     "data": {
      "text/plain": [
       "<folium.features.GeoJson at 0x7f14832c36a0>"
      ]
     },
     "execution_count": 4,
     "metadata": {},
     "output_type": "execute_result"
    }
   ],
   "source": [
    "folium.GeoJson(data, name='Train Stations-Vor').add_to(m)"
   ]
  },
  {
   "cell_type": "code",
   "execution_count": 5,
   "metadata": {},
   "outputs": [],
   "source": [
    "import pandas as pd\n",
    "from scipy.spatial import Voronoi, voronoi_plot_2d"
   ]
  },
  {
   "cell_type": "code",
   "execution_count": 6,
   "metadata": {},
   "outputs": [],
   "source": [
    "#File with station locations in NYC:\n",
    "libs = pd.read_csv('DOITT_SUBWAY_STATION_01_13SEPT2010.csv')\n",
    "\n",
    "#Create lists to hold coordinates and popups:\n",
    "coords = []\n",
    "popups = []\n",
    "icons = []"
   ]
  },
  {
   "cell_type": "code",
   "execution_count": 7,
   "metadata": {},
   "outputs": [],
   "source": [
    "#For each row in the CSV, pull out the latitude, longitude, and name of the library:\n",
    "for index, row in libs.iterrows():\n",
    "    words = row['the_geom'].split(\" \")\n",
    "    lat = float(words[2][:-1])\n",
    "    lon = float(words[1][1:])\n",
    "    name = row['NAME']\n",
    "    #Add the [lat,lon] to list of coordinates:\n",
    "    coords.append([lat,lon])\n",
    "#Use scipy to make the voronoi diagram:\n",
    "vor = Voronoi(coords, qhull_options='Qbb Qc Qx')"
   ]
  },
  {
   "cell_type": "code",
   "execution_count": 8,
   "metadata": {},
   "outputs": [],
   "source": [
    "#Use geojson file to write out the features\n",
    "from geojson import FeatureCollection, Feature, Polygon"
   ]
  },
  {
   "cell_type": "code",
   "execution_count": 9,
   "metadata": {},
   "outputs": [],
   "source": [
    "#The output file, to contain the Voronoi diagram we computed:\n",
    "vorJSON = open('Subway_Stations.geojson', 'w')\n",
    "point_voronoi_list = []\n",
    "feature_list = []"
   ]
  },
  {
   "cell_type": "code",
   "execution_count": 10,
   "metadata": {},
   "outputs": [],
   "source": [
    "for region in range(len(vor.regions)-1):\n",
    "    vertex_list = []\n",
    "    for x in vor.regions[region]:\n",
    "        if x == -1:\n",
    "            break;\n",
    "        else:\n",
    "            #Get the vertex out of the list, and flip the order for folium:\n",
    "            vertex = vor.vertices[x]\n",
    "            vertex = (vertex[1], vertex[0])\n",
    "        vertex_list.append(vertex)\n",
    "    #Save the vertex list as a polygon and then add to the feature_list:\n",
    "    polygon = Polygon([vertex_list])\n",
    "    feature = Feature(geometry=polygon, properties={})\n",
    "    feature_list.append(feature)"
   ]
  },
  {
   "cell_type": "code",
   "execution_count": 11,
   "metadata": {},
   "outputs": [],
   "source": [
    "#Write the features to the new file:\n",
    "feature_collection = FeatureCollection(feature_list)\n",
    "print (feature_collection, file=vorJSON)\n",
    "vorJSON.close()"
   ]
  },
  {
   "cell_type": "code",
   "execution_count": 12,
   "metadata": {},
   "outputs": [
    {
     "data": {
      "text/plain": [
       "<folium.features.GeoJson at 0x7f147fbcd358>"
      ]
     },
     "execution_count": 12,
     "metadata": {},
     "output_type": "execute_result"
    }
   ],
   "source": [
    "folium.GeoJson(data, name='Train Stations-Vor').add_to(m)"
   ]
  },
  {
   "cell_type": "code",
   "execution_count": 14,
   "metadata": {},
   "outputs": [],
   "source": [
    "m.save('Map.html')"
   ]
  },
  {
   "cell_type": "code",
   "execution_count": null,
   "metadata": {},
   "outputs": [],
   "source": []
  }
 ],
 "metadata": {
  "kernelspec": {
   "display_name": "Python 3",
   "language": "python",
   "name": "python3"
  },
  "language_info": {
   "codemirror_mode": {
    "name": "ipython",
    "version": 3
   },
   "file_extension": ".py",
   "mimetype": "text/x-python",
   "name": "python",
   "nbconvert_exporter": "python",
   "pygments_lexer": "ipython3",
   "version": "3.6.9"
  }
 },
 "nbformat": 4,
 "nbformat_minor": 2
}
